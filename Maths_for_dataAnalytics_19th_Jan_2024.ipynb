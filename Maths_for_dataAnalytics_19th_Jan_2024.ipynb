{
 "cells": [
  {
   "cell_type": "code",
   "execution_count": 1,
   "id": "9848105a-66a4-4d03-9af0-2a0e19104779",
   "metadata": {},
   "outputs": [
    {
     "name": "stdout",
     "output_type": "stream",
     "text": [
      "b'{\"bitcoin\":{\"inr\":9030954}}'\n"
     ]
    }
   ],
   "source": [
    "import requests\n",
    "\n",
    "url = \"https://api.coingecko.com/api/v3/simple/price?ids=bitcoin&vs_currencies=inr\"\n",
    "\n",
    "response=requests.get(url)\n",
    "\n",
    "print(response.content)"
   ]
  },
  {
   "cell_type": "code",
   "execution_count": 2,
   "id": "a858124c-e5fd-42fa-96a6-1d5d2be9e38a",
   "metadata": {},
   "outputs": [
    {
     "name": "stdout",
     "output_type": "stream",
     "text": [
      " Repo: abads10, stars:0,URL: https://github.com/shakul-malik/abads10\n",
      " Repo: abads10git, stars:0,URL: https://github.com/shakul-malik/abads10git\n",
      " Repo: abads13, stars:0,URL: https://github.com/shakul-malik/abads13\n",
      " Repo: abads_deck, stars:0,URL: https://github.com/shakul-malik/abads_deck\n",
      " Repo: activity, stars:0,URL: https://github.com/shakul-malik/activity\n",
      " Repo: AI_Story_Generator, stars:0,URL: https://github.com/shakul-malik/AI_Story_Generator\n",
      " Repo: apbads, stars:0,URL: https://github.com/shakul-malik/apbads\n",
      " Repo: demo, stars:0,URL: https://github.com/shakul-malik/demo\n",
      " Repo: demooooo, stars:0,URL: https://github.com/shakul-malik/demooooo\n",
      " Repo: devopsbatch5, stars:0,URL: https://github.com/shakul-malik/devopsbatch5\n",
      " Repo: drdo_training, stars:0,URL: https://github.com/shakul-malik/drdo_training\n",
      " Repo: ExcelVBA, stars:0,URL: https://github.com/shakul-malik/ExcelVBA\n",
      " Repo: excel_project, stars:0,URL: https://github.com/shakul-malik/excel_project\n",
      " Repo: fsdbatch9, stars:0,URL: https://github.com/shakul-malik/fsdbatch9\n",
      " Repo: git_batch15, stars:0,URL: https://github.com/shakul-malik/git_batch15\n",
      " Repo: GWToolboxpp, stars:0,URL: https://github.com/shakul-malik/GWToolboxpp\n",
      " Repo: java-assignments, stars:0,URL: https://github.com/shakul-malik/java-assignments\n",
      " Repo: LearnDevOps, stars:0,URL: https://github.com/shakul-malik/LearnDevOps\n",
      " Repo: merge, stars:0,URL: https://github.com/shakul-malik/merge\n",
      " Repo: ore-cli, stars:0,URL: https://github.com/shakul-malik/ore-cli\n",
      " Repo: pankaj_powerbi, stars:0,URL: https://github.com/shakul-malik/pankaj_powerbi\n",
      " Repo: python_session, stars:0,URL: https://github.com/shakul-malik/python_session\n",
      " Repo: python_session01, stars:0,URL: https://github.com/shakul-malik/python_session01\n",
      " Repo: randomrepo, stars:0,URL: https://github.com/shakul-malik/randomrepo\n",
      " Repo: training, stars:0,URL: https://github.com/shakul-malik/training\n",
      " Repo: TravelMemory, stars:0,URL: https://github.com/shakul-malik/TravelMemory\n",
      " Repo: xdm, stars:0,URL: https://github.com/shakul-malik/xdm\n"
     ]
    }
   ],
   "source": [
    "import requests\n",
    "# GitHub API base URL\n",
    "\n",
    "_API_URL = \"https://api.github.com\"\n",
    "def get_user_repos(username):\n",
    "\n",
    "    url=f\"{GITHUB_API_URL}/users/{username}/repos\"\n",
    "\n",
    "    response=requests.get(url)\n",
    "    #print(response.content)\n",
    "\n",
    "    if response.status_code==200:\n",
    "\n",
    "        repos=response.json()\n",
    "\n",
    "        for i in repos:\n",
    "\n",
    "            print(f\" Repo: {i['name']}, stars:{i['stargazers_count']},URL: { i['html_url']}\")\n",
    "\n",
    "    else:\n",
    "\n",
    "        print(f\" error:{response.status_code}, message:{response.json()}\")\n",
    "\n",
    "   \n",
    "\n",
    "github_username = \"shakul-malik\"\n",
    "\n",
    "get_user_repos(github_username)"
   ]
  },
  {
   "cell_type": "code",
   "execution_count": 28,
   "id": "c90f8575-11ae-4d72-8cc9-3dd9890f90c5",
   "metadata": {},
   "outputs": [
    {
     "name": "stdout",
     "output_type": "stream",
     "text": [
      "1 [{'indicator': {'id': 'NY.GDP.MKTP.CD', 'value': 'GDP (current US$)'}, 'country': {'id': 'IN', 'value': 'India'}, 'countryiso3code': 'IND', 'date': '2023', 'value': 3567551674623.01, 'unit': '', 'obs_status': '', 'decimal': 0}]\n"
     ]
    }
   ],
   "source": [
    "import requests\n",
    "# GitHub API base URL\n",
    "\n",
    "world_bank_API_URL = \"http://api.worldbank.org/v2/country/IN/indicator/NY.GDP.MKTP.CD?format=json&per_page=1\"\n",
    "def get_user_repos(username):\n",
    "\n",
    "    url=f\"{world_bank_API_URL}\"\n",
    "\n",
    "    response=requests.get(url)\n",
    "    # print(response.content)\n",
    "\n",
    "    if response.status_code==200:\n",
    "\n",
    "        repos=response.json()\n",
    "        # print(repos, len(repos))\n",
    "\n",
    "        for i in range(1,len(repos)):\n",
    "\n",
    "            # print(f\" Repo: {i['country']}, stars:{i['stargazers_count']},URL: { i['html_url']}\")\n",
    "            print(i,repos[i])\n",
    "\n",
    "    else:\n",
    "\n",
    "        print(f\" error:{response.status_code}, message:{response.json()}\")\n",
    "\n",
    "github_username = \"shakul-malik\"\n",
    "\n",
    "get_user_repos(github_username)"
   ]
  },
  {
   "cell_type": "code",
   "execution_count": null,
   "id": "b8f01eaa-7577-4254-9ca3-9287e84dba8a",
   "metadata": {},
   "outputs": [],
   "source": []
  },
  {
   "cell_type": "code",
   "execution_count": null,
   "id": "634dbb2f-9280-46c9-8da1-63a31d6af481",
   "metadata": {},
   "outputs": [],
   "source": []
  }
 ],
 "metadata": {
  "kernelspec": {
   "display_name": "Python 3 (ipykernel)",
   "language": "python",
   "name": "python3"
  },
  "language_info": {
   "codemirror_mode": {
    "name": "ipython",
    "version": 3
   },
   "file_extension": ".py",
   "mimetype": "text/x-python",
   "name": "python",
   "nbconvert_exporter": "python",
   "pygments_lexer": "ipython3",
   "version": "3.12.7"
  }
 },
 "nbformat": 4,
 "nbformat_minor": 5
}
